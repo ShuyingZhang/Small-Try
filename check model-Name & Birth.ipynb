{
 "cells": [
  {
   "cell_type": "markdown",
   "id": "346a9671",
   "metadata": {},
   "source": [
    "### 直接 shift+enter 运行下面的代码，直到看到第一步开始，复制粘贴内容进去"
   ]
  },
  {
   "cell_type": "code",
   "execution_count": 2,
   "id": "5d9649c3",
   "metadata": {},
   "outputs": [],
   "source": [
    "import re\n",
    "\n",
    "def extract_all_beneficiaries(text):\n",
    "    \"\"\"\n",
    "    Extracts all beneficiaries' names from the given text.\n",
    "\n",
    "    Parameters:\n",
    "    text (str): The text from which to extract the beneficiaries' names\n",
    "\n",
    "    Returns:\n",
    "    list: A list of extracted beneficiaries' names, or a message indicating none were found\n",
    "    \"\"\"\n",
    "    # Regular expression to find all occurrences of beneficiaries\n",
    "    beneficiary_pattern = r\"Beneficiary:\\s*(.*?)\\s*(?=\\n|$)\"\n",
    "\n",
    "    # Find all matches in the text\n",
    "    beneficiaries_matches = re.findall(beneficiary_pattern, text)\n",
    "\n",
    "    return beneficiaries_matches if beneficiaries_matches else [\"No beneficiaries found\"]"
   ]
  },
  {
   "cell_type": "code",
   "execution_count": 3,
   "id": "3a0f1016",
   "metadata": {},
   "outputs": [],
   "source": [
    "def extract_all_dob(text):\n",
    "\n",
    "    dob_pattern = r\"DOB:\\s*(.*?)\\s*(?=\\n|$)\"\n",
    "\n",
    "    # Find all matches in the text\n",
    "    dob_matches = re.findall(dob_pattern, text)\n",
    "\n",
    "    return dob_matches if dob_matches else [\"No dob found\"]"
   ]
  },
  {
   "cell_type": "markdown",
   "id": "b9406984",
   "metadata": {},
   "source": [
    "### 第一步：下面复制 ListOfBeneficiares.html里面的文本内容粘贴到example_text这里"
   ]
  },
  {
   "cell_type": "code",
   "execution_count": 4,
   "id": "50010880",
   "metadata": {},
   "outputs": [],
   "source": [
    "# Example usage with multiple beneficiaries\n",
    "# 复制 ListOfBeneficiares.html里面的文本内容粘贴到example_text这里\n",
    "example_text = \"\"\"\n",
    "Beneficiary: JIAN HUANG\n",
    "DOB: 02/28/1977\n",
    "Classification sought: P3\n",
    "\n",
    "Beneficiary: ZHIBIN CHEN\n",
    "DOB: 03/24/1969\n",
    "Classification sought: P3\n",
    "\n",
    "Beneficiary: XIAOFENG LIU\n",
    "DOB: 08/31/1970\n",
    "Classification sought: P3\n",
    "\n",
    "Beneficiary: SHIZE CHEN\n",
    "DOB: 09/19/1965\n",
    "Classification sought: P3\n",
    "\n",
    "Beneficiary: XIULAN WU\n",
    "DOB: 12/27/1975\n",
    "Classification sought: P3\n",
    "\n",
    "Beneficiary: XIAOLI CHEN\n",
    "DOB: 07/19/1990\n",
    "Classification sought: P3\n",
    "\n",
    "Beneficiary: HONG QIU\n",
    "DOB: 10/23/1968\n",
    "Classification sought: P3\n",
    "\n",
    "Beneficiary: SUFEN GONG\n",
    "DOB: 08/25/1973\n",
    "Classification sought: P3\n",
    "\n",
    "Beneficiary: YING ZHAO\n",
    "DOB: 01/19/1967\n",
    "Classification sought: P3\n",
    "\n",
    "Beneficiary: JIE HUANG\n",
    "DOB: 07/21/1986\n",
    "Classification sought: P3\n",
    "\n",
    "Beneficiary: FANGHUA CHEN\n",
    "DOB: 03/13/1975\n",
    "Classification sought: P3\n",
    "\n",
    "Beneficiary: JIGANG HUANG\n",
    "DOB: 05/14/1970\n",
    "Classification sought: P3\n",
    "\n",
    "Beneficiary: GANGXIAN YANG\n",
    "DOB: 07/18/1976\n",
    "Classification sought: P3\n",
    "\n",
    "Beneficiary: WEIYING JI\n",
    "DOB: 07/20/1975\n",
    "Classification sought: P3\n",
    "\n",
    "Beneficiary: QINGFU LIAO\n",
    "DOB: 10/29/1967\n",
    "Classification sought: P3\n",
    "\n",
    "Beneficiary: FENGYING LIU\n",
    "DOB: 01/17/1973\n",
    "Classification sought: P3\n",
    "\n",
    "Beneficiary: LI HE\n",
    "DOB: 12/12/1985\n",
    "Classification sought: P3\n",
    "\n",
    "Beneficiary: GANG SONG\n",
    "DOB: 04/30/1974\n",
    "Classification sought: P3\n",
    "\n",
    "Beneficiary: ZHICHAO MIAO\n",
    "DOB: 02/28/1967\n",
    "Classification sought: P3\n",
    "\n",
    "Beneficiary: YONGGANG SONG\n",
    "DOB: 02/28/1981\n",
    "Classification sought: P3\n",
    "\n",
    "Beneficiary: DAIWEN LENG\n",
    "DOB: 12/28/1993\n",
    "Classification sought: P3\n",
    "\n",
    "Beneficiary: CHUNLIN WU\n",
    "DOB: 02/25/1979\n",
    "Classification sought: P3\n",
    "\n",
    "Beneficiary: XIAOYING BI\n",
    "DOB: 02/13/1976\n",
    "Classification sought: P3\n",
    "\n",
    "Beneficiary: HUILAN WU\n",
    "DOB: 08/07/1979\n",
    "Classification sought: P3\n",
    "\n",
    "Beneficiary: QIZHEN WU\n",
    "DOB: 03/01/1970\n",
    "Classification sought: P3\n",
    "\n",
    "Beneficiary: QIXIAN WU\n",
    "DOB: 08/11/1965\n",
    "Classification sought: P3\n",
    "\n",
    "Beneficiary: QUN WU\n",
    "DOB: 11/03/1967\n",
    "Classification sought: P3\n",
    "\n",
    "Beneficiary: XUEYING YIN\n",
    "DOB: 11/26/1974\n",
    "Classification sought: P3\n",
    "\n",
    "Beneficiary: YAN CHEN\n",
    "DOB: 03/14/1968\n",
    "Classification sought: P3\n",
    "\n",
    "Beneficiary: CHENGKUN ZENG\n",
    "DOB: 08/15/1973\n",
    "Classification sought: P3\n",
    "\n",
    "Beneficiary: XIANGMEI CHEN\n",
    "DOB: 03/29/1971\n",
    "Classification sought: P3\n",
    "\n",
    "Beneficiary: ZHAOBIN ZHANG\n",
    "DOB: 10/10/1979\n",
    "Classification sought: P3\n",
    "\n",
    "Beneficiary: MINGSHOU YANG\n",
    "DOB: 12/18/1965\n",
    "Classification sought: P3\n",
    "\n",
    "Beneficiary: GANGYI ZHU\n",
    "DOB: 05/09/1971\n",
    "Classification sought: P3\n",
    "\n",
    "Beneficiary: HUALIN WAN\n",
    "DOB: 07/25/1965\n",
    "Classification sought: P3\n",
    "\n",
    "Beneficiary: FUYOU MAO\n",
    "DOB: 01/23/1969\n",
    "Classification sought: P3\n",
    "\n",
    "\"\"\"\n",
    "\n",
    "text_a = extract_all_beneficiaries(example_text)\n",
    "text_a_dob = extract_all_dob(example_text)"
   ]
  },
  {
   "cell_type": "markdown",
   "id": "3451b60d",
   "metadata": {},
   "source": [
    "### 第二步：复制 0. Name List 中Name那一行到text_b，运行下面代码显示True，则名字无错误"
   ]
  },
  {
   "cell_type": "code",
   "execution_count": 5,
   "id": "7347fcc7",
   "metadata": {},
   "outputs": [
    {
     "data": {
      "text/plain": [
       "True"
      ]
     },
     "execution_count": 5,
     "metadata": {},
     "output_type": "execute_result"
    }
   ],
   "source": [
    "# 复制 0. Name List 中Name那一行到text_b\n",
    "text_b = \"\"\"\n",
    "HUANG,JIAN\n",
    "CHEN,ZHIBIN\n",
    "LIU,XIAOFENG\n",
    "ZHU,GANGYI\n",
    "WAN,HUALIN\n",
    "SONG,YONGGANG\n",
    "LENG,DAIWEN\n",
    "MAO,FUYOU\n",
    "ZENG,CHENGKUN\n",
    "CHEN,XIANGMEI\n",
    "HUANG,JIE\n",
    "CHEN,FANGHUA\n",
    "SONG,GANG\n",
    "MIAO,ZHICHAO\n",
    "ZHANG,ZHAOBIN\n",
    "YANG,MINGSHOU\n",
    "HUANG,JIGANG\n",
    "YANG,GANGXIAN\n",
    "CHEN,SHIZE\n",
    "WU,XIULAN\n",
    "WU,HUILAN\n",
    "WU,QIZHEN\n",
    "WU,QIXIAN\n",
    "WU,QUN\n",
    "CHEN,XIAOLI\n",
    "QIU,HONG\n",
    "JI,WEIYING\n",
    "LIAO,QINGFU\n",
    "GONG,SUFEN\n",
    "ZHAO,YING\n",
    "YIN,XUEYING\n",
    "CHEN,YAN\n",
    "WU,CHUNLIN\n",
    "BI,XIAOYING\n",
    "LIU,FENGYING\n",
    "HE,LI\n",
    "\"\"\"\n",
    "\n",
    "text_b_list = [name for name in text_b.split('\\n') if name]\n",
    "\n",
    "\n",
    "text_b_adjusted = [' '.join(name.split(',')[::-1]).strip() for name in text_b_list]\n",
    "text_b_adjusted\n",
    "\n",
    "# 检查两个文本是否完全匹配\n",
    "are_texts_matching_name = set(text_a) == set(text_b_adjusted)\n",
    "are_texts_matching_name"
   ]
  },
  {
   "cell_type": "markdown",
   "id": "1a5dc61a",
   "metadata": {},
   "source": [
    "### 第三步：复制 0. Name List 中Date of Birth mm-dd-yyyy那一行到dates_string（如果没有就忽略），运行下面代码显示True，则生日无错误"
   ]
  },
  {
   "cell_type": "code",
   "execution_count": 6,
   "id": "28f62cc5",
   "metadata": {},
   "outputs": [
    {
     "data": {
      "text/plain": [
       "True"
      ]
     },
     "execution_count": 6,
     "metadata": {},
     "output_type": "execute_result"
    }
   ],
   "source": [
    "# 复制 0. Name List 中Date of Birth mm-dd-yyyy那一行到dates_string\n",
    "dates_string = '''\n",
    "2-28-1977\n",
    "3-24-1969\n",
    "8-31-1970\n",
    "5-09-1971\n",
    "7-25-1965\n",
    "2-28-1981\n",
    "12-28-1993\n",
    "1-23-1969\n",
    "8-15-1973\n",
    "3-29-1971\n",
    "7-21-1986\n",
    "3-13-1975\n",
    "4-30-1974\n",
    "2-28-1967\n",
    "10-10-1979\n",
    "12-18-1965\n",
    "5-14-1970\n",
    "7-18-1976\n",
    "9-19-1965\n",
    "12-27-1975\n",
    "8-07-1979\n",
    "3-01-1970\n",
    "8-11-1965\n",
    "11-03-1967\n",
    "7-19-1990\n",
    "10-23-1968\n",
    "7-20-1975\n",
    "10-29-1967\n",
    "8-25-1973\n",
    "1-19-1967\n",
    "11-26-1974\n",
    "3-14-1968\n",
    "2-25-1979\n",
    "2-13-1976\n",
    "1-17-1973\n",
    "12-12-1985\n",
    "'''\n",
    "\n",
    "# 将字符串拆分成单独的日期，并转换格式\n",
    "dates_list = dates_string.strip().split('\\n')\n",
    "formatted_dates = [f'{int(date.split(\"-\")[0]):02d}/{int(date.split(\"-\")[1]):02d}/{date.split(\"-\")[2]}' for date in dates_list]\n",
    "\n",
    "\n",
    "# 检查两个文本是否完全匹配\n",
    "are_texts_matching_dob = set(text_a_dob) == set(formatted_dates)\n",
    "are_texts_matching_dob"
   ]
  },
  {
   "cell_type": "markdown",
   "id": "84a94551",
   "metadata": {},
   "source": [
    "### 第四步：如果第二步中名字不匹配，显示False，则运行该步骤，否则不用"
   ]
  },
  {
   "cell_type": "code",
   "execution_count": 8,
   "id": "ac96d06f",
   "metadata": {},
   "outputs": [
    {
     "data": {
      "text/plain": [
       "{'在文本A中但不在文本B中的内容': [], '在文本B中但不在文本A中的内容': []}"
      ]
     },
     "execution_count": 8,
     "metadata": {},
     "output_type": "execute_result"
    }
   ],
   "source": [
    "# 如果不匹配\n",
    "# 找出文本A和文本B中Name不同的内容\n",
    "name_difference_a_b = set(text_a).difference(set(text_b_adjusted))\n",
    "name_difference_b_a = set(text_b_adjusted).difference(set(text_a))\n",
    "\n",
    "# 将找到的不同内容格式化为输出\n",
    "different_content = {\n",
    "    \"在文本A中但不在文本B中的内容\": list(name_difference_a_b),\n",
    "    \"在文本B中但不在文本A中的内容\": list(name_difference_b_a)\n",
    "}\n",
    "different_content"
   ]
  },
  {
   "cell_type": "markdown",
   "id": "fdc38b2e",
   "metadata": {},
   "source": [
    "### 第五步：如果第三步中名字不匹配，显示False，则运行该步骤，否则不用"
   ]
  },
  {
   "cell_type": "code",
   "execution_count": 10,
   "id": "cefdf940",
   "metadata": {},
   "outputs": [
    {
     "data": {
      "text/plain": [
       "{'在文本A中但不在文本B中的内容': [], '在文本B中但不在文本A中的内容': []}"
      ]
     },
     "execution_count": 10,
     "metadata": {},
     "output_type": "execute_result"
    }
   ],
   "source": [
    "# 如果不匹配\n",
    "# 找出文本A和文本B中DOB不同的内容\n",
    "dob_difference_a_b = set(text_a_dob).difference(set(formatted_dates))\n",
    "dob_difference_b_a = set(formatted_dates).difference(set(text_a_dob))\n",
    "\n",
    "# 将找到的不同内容格式化为输出\n",
    "different_content = {\n",
    "    \"在文本A中但不在文本B中的内容\": list(dob_difference_a_b),\n",
    "    \"在文本B中但不在文本A中的内容\": list(dob_difference_b_a)\n",
    "}\n",
    "different_content"
   ]
  }
 ],
 "metadata": {
  "kernelspec": {
   "display_name": "Python 3 (ipykernel)",
   "language": "python",
   "name": "python3"
  },
  "language_info": {
   "codemirror_mode": {
    "name": "ipython",
    "version": 3
   },
   "file_extension": ".py",
   "mimetype": "text/x-python",
   "name": "python",
   "nbconvert_exporter": "python",
   "pygments_lexer": "ipython3",
   "version": "3.9.12"
  }
 },
 "nbformat": 4,
 "nbformat_minor": 5
}
